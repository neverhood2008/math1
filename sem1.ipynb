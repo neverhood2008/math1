{
 "cells": [
  {
   "attachments": {},
   "cell_type": "markdown",
   "metadata": {},
   "source": [
    "#Задача1\n",
    "##Напишите функцию, которая на вход принимает два словаря и возвращает один объединенный словарь Используйте аннотирование типов"
   ]
  },
  {
   "cell_type": "code",
   "execution_count": 7,
   "metadata": {},
   "outputs": [
    {
     "data": {
      "text/plain": [
       "{'One': 1, 'Two': 2, 'Three': 3, 'Four': 4, 'Five': 5, 'Six': 6}"
      ]
     },
     "execution_count": 7,
     "metadata": {},
     "output_type": "execute_result"
    }
   ],
   "source": [
    "def join_dict(d1,d2:list):\n",
    "    d1.update(d2)\n",
    "    return d1\n",
    "    \n",
    "    \n",
    "dict1 = {'One': 1, 'Two': 2, 'Three': 3}\n",
    "dict2 = {'Four': 4, 'Five': 5, 'Six': 6}\n",
    "join_dict(dict1,dict2)\n",
    "\n"
   ]
  },
  {
   "cell_type": "code",
   "execution_count": null,
   "metadata": {},
   "outputs": [],
   "source": []
  },
  {
   "attachments": {},
   "cell_type": "markdown",
   "metadata": {},
   "source": [
    "Напишите функцию, которая из двух списков, делает один словарь, где элементы из первого списка - ключи, а элементы из второго списка - значения\n",
    "\n",
    "Используйте аннотирование типов\n",
    "\n",
    "2.1 Используя цикл for\n",
    "2.2 Используя dict comprehensions"
   ]
  },
  {
   "cell_type": "code",
   "execution_count": 10,
   "metadata": {},
   "outputs": [
    {
     "data": {
      "text/plain": [
       "{'One': 1, 'Two': 2, 'Three': 3}"
      ]
     },
     "execution_count": 10,
     "metadata": {},
     "output_type": "execute_result"
    }
   ],
   "source": [
    "def join_dict(d1: list,d2: list) -> dict:\n",
    "    dict_join = {}\n",
    "    for i in range(len(d1)):\n",
    "        dict_join[d1[i]] = d2[i]\n",
    "    return dict_join\n",
    "\n",
    "    \n",
    "d1 = ['One', 'Two', 'Three']\n",
    "d2 = [1,2,3]\n",
    "join_dict(d1,d2)\n",
    "\n"
   ]
  },
  {
   "cell_type": "markdown",
   "metadata": {},
   "source": []
  },
  {
   "cell_type": "code",
   "execution_count": null,
   "metadata": {},
   "outputs": [],
   "source": [
    "def join_dict(d1: list,d2: list) -> dict:\n",
    "    dict_join = {}\n",
    "    for i in range(len(d1)):\n",
    "        dict_join[d1[i]] = d2[i]\n",
    "    return dict_join\n",
    "\n",
    "    \n",
    "d1 = ['One', 'Two', 'Three']\n",
    "d2 = [1,2,3]\n",
    "join_dict(d1,d2)\n",
    "\n"
   ]
  },
  {
   "attachments": {},
   "cell_type": "markdown",
   "metadata": {},
   "source": [
    "#### Задача2\n",
    "##### Пункт2"
   ]
  },
  {
   "cell_type": "code",
   "execution_count": 11,
   "metadata": {},
   "outputs": [],
   "source": [
    "d1 = ['One', 'Two', 'Three']\n",
    "d2 = [1,2,3]\n",
    "\n"
   ]
  },
  {
   "cell_type": "code",
   "execution_count": 12,
   "metadata": {},
   "outputs": [
    {
     "data": {
      "text/plain": [
       "{'One': 1, 'Two': 2, 'Three': 3}"
      ]
     },
     "execution_count": 12,
     "metadata": {},
     "output_type": "execute_result"
    }
   ],
   "source": [
    "def join_dict(d1: list,d2: list) -> dict:\n",
    "    dict_join={d1[i]:d2[i] for i in range(len(d1)) }\n",
    "    return dict_join\n",
    "join_dict(d1,d2)"
   ]
  },
  {
   "attachments": {},
   "cell_type": "markdown",
   "metadata": {},
   "source": [
    "Извлеките только два ключа name и age из представленного словаря\n",
    "client_dict = {\n",
    "\t\"name\": \"John\",\n",
    "\t\"age\": 25,\n",
    "\t\"salary\": 5000,\n",
    "\t\"city\": \"Moscow\"\n",
    "}\n",
    "Функция на вход принимает:\n",
    "исходный словарь\n",
    "ключи, которые нужно извлечь (аргумент по умолчанию)\n",
    "На выходе словарь с нужными ключами\n",
    "Используйте аннотирование типов\n",
    "3.2 Используя dict comprehensions\n"
   ]
  },
  {
   "cell_type": "code",
   "execution_count": 14,
   "metadata": {},
   "outputs": [],
   "source": [
    "client_dict = {\n",
    "\t\"name\": \"John\",\n",
    "\t\"age\": 25,\n",
    "\t\"salary\": 5000,\n",
    "\t\"city\": \"Moscow\"\n",
    "}"
   ]
  },
  {
   "cell_type": "code",
   "execution_count": 17,
   "metadata": {},
   "outputs": [
    {
     "data": {
      "text/plain": [
       "{'name': 'John', 'age': 25, 'salary': 5000}"
      ]
     },
     "execution_count": 17,
     "metadata": {},
     "output_type": "execute_result"
    }
   ],
   "source": [
    "def ext(d1: dict,keys=['name','age']) -> dict:\n",
    "    dict_join = {}\n",
    "    for i in keys:\n",
    "            dict_join.update({i:d1[i]})\n",
    "    return dict_join\n",
    "ext(client_dict, ['name','age','salary'] )"
   ]
  },
  {
   "cell_type": "code",
   "execution_count": 18,
   "metadata": {},
   "outputs": [
    {
     "data": {
      "text/plain": [
       "{'name': 'John', 'age': 25, 'salary': 5000}"
      ]
     },
     "execution_count": 18,
     "metadata": {},
     "output_type": "execute_result"
    }
   ],
   "source": [
    "def ext(d1: dict,keys=['name','age']) -> dict:\n",
    "    dict_join = {key:d1[key] for key in keys}\n",
    "    return dict_join\n",
    "ext(client_dict, ['name','age','salary'] )"
   ]
  }
 ],
 "metadata": {
  "kernelspec": {
   "display_name": "Python 3",
   "language": "python",
   "name": "python3"
  },
  "language_info": {
   "codemirror_mode": {
    "name": "ipython",
    "version": 3
   },
   "file_extension": ".py",
   "mimetype": "text/x-python",
   "name": "python",
   "nbconvert_exporter": "python",
   "pygments_lexer": "ipython3",
   "version": "3.10.11"
  },
  "orig_nbformat": 4
 },
 "nbformat": 4,
 "nbformat_minor": 2
}
